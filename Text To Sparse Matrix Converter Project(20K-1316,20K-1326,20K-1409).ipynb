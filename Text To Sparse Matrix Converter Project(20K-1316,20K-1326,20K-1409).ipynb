{
 "cells": [
  {
   "cell_type": "code",
   "execution_count": 1,
   "metadata": {},
   "outputs": [
    {
     "data": {
      "text/plain": [
       "[['happy', 'Mary', 'he', 'is', 'not', 'hungry', 'for', 'apples', 'John'],\n",
       " [0, 1, 0, 1, 0, 1, 1, 1, 0],\n",
       " [1, 0, 1, 1, 1, 1, 1, 1, 1]]"
      ]
     },
     "execution_count": 1,
     "metadata": {},
     "output_type": "execute_result"
    }
   ],
   "source": [
    "import numpy as np\n",
    "import string as str\n",
    "\n",
    "#converting text to the form of the sparse matrix\n",
    "\n",
    "#example text\n",
    "text1 = \"Mary, is hungry for apples.\"\n",
    "text2 = \"John is happy he is not hungry for apples.\"\n",
    "\n",
    "#remove all punctuation marks\n",
    "text1 = text1.translate(text1.maketrans('', '', str.punctuation))\n",
    "text2 = text2.translate(text2.maketrans('', '', str.punctuation))\n",
    "\n",
    "\n",
    "#tokenization, Separate each word as tokens \n",
    "l1 = list(text1.split(\" \"))\n",
    "l2  = list(text2.split(\" \"))\n",
    "\n",
    "\n",
    "#unique word count\n",
    "words = list(set(l1 + l2))\n",
    "x = len(words)\n",
    "\n",
    "#count vectorization, frequency of word occurring in a sentence\n",
    "Sparse_Matrix = [words, [0] * x, [0] * x]\n",
    "Compressed_Sparse_Row_Matrix = []\n",
    "\n",
    "\n",
    "#stack the the rows of numbers over each other to get sparse matrix\n",
    "for i in range(0, x):\n",
    "    if Sparse_Matrix[0][i] in l1:\n",
    "        Sparse_Matrix[1][i] += 1\n",
    "    if Sparse_Matrix[0][i] in l2:\n",
    "        Sparse_Matrix[2][i] += 1\n",
    "        \n",
    "Sparse_Matrix"
   ]
  },
  {
   "cell_type": "code",
   "execution_count": 2,
   "metadata": {},
   "outputs": [
    {
     "name": "stdout",
     "output_type": "stream",
     "text": [
      "Sparsity = 27.77777777777778%\n"
     ]
    }
   ],
   "source": [
    "#Sparse matrices can cause problems with regards to space and time complexity\n",
    "#sparsity = count zero elements / total elements\n",
    "a = np.count_nonzero(Sparse_Matrix[1:])\n",
    "b = len(Sparse_Matrix[1:]) * x\n",
    "c = b-a\n",
    "print(f'Sparsity = {c/b * 100}%')"
   ]
  },
  {
   "cell_type": "code",
   "execution_count": 3,
   "metadata": {},
   "outputs": [
    {
     "data": {
      "text/plain": [
       "[[2, 9, 13],\n",
       " [1, 1, 1],\n",
       " [1, 3, 1],\n",
       " [1, 5, 1],\n",
       " [1, 6, 1],\n",
       " [1, 7, 1],\n",
       " [2, 0, 1],\n",
       " [2, 2, 1],\n",
       " [2, 3, 1],\n",
       " [2, 4, 1],\n",
       " [2, 5, 1],\n",
       " [2, 6, 1],\n",
       " [2, 7, 1],\n",
       " [2, 8, 1]]"
      ]
     },
     "execution_count": 3,
     "metadata": {},
     "output_type": "execute_result"
    }
   ],
   "source": [
    "#sparse matrix represented as Triplet Representation (Array Representation) or Compressed Sparse Row. The sparse matrix is represented using three one-dimensional arrays for the non-zero values, the extents of the rows, and the column indexes\n",
    "Compressed_Sparse_Row_Matrix.append([2, x, np.count_nonzero(Sparse_Matrix[1:])])\n",
    "for i in range(1, 3):\n",
    "    for j in range(0, x):\n",
    "        y = Sparse_Matrix[i][j]\n",
    "        if y>0:\n",
    "            Compressed_Sparse_Row_Matrix.append([i,j,y])\n",
    "        \n",
    "Compressed_Sparse_Row_Matrix"
   ]
  }
 ],
 "metadata": {
  "kernelspec": {
   "display_name": "Python 3",
   "language": "python",
   "name": "python3"
  },
  "language_info": {
   "codemirror_mode": {
    "name": "ipython",
    "version": 3
   },
   "file_extension": ".py",
   "mimetype": "text/x-python",
   "name": "python",
   "nbconvert_exporter": "python",
   "pygments_lexer": "ipython3",
   "version": "3.8.3"
  }
 },
 "nbformat": 4,
 "nbformat_minor": 4
}
